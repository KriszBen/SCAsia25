{
 "cells": [
  {
   "cell_type": "markdown",
   "metadata": {},
   "source": [
    "Let us first load the necessary packages for this introductory sheet of code."
   ]
  },
  {
   "cell_type": "code",
   "execution_count": null,
   "metadata": {
    "executionInfo": {
     "elapsed": 242,
     "status": "ok",
     "timestamp": 1662791417421,
     "user": {
      "displayName": "Bruno Fedrici",
      "userId": "00027073225945173971"
     },
     "user_tz": -120
    },
    "id": "Qk2qs1c6rn7Y"
   },
   "outputs": [],
   "source": [
    "import numpy as np\n",
    "from pulser import Pulse, Sequence, Register"
   ]
  },
  {
   "cell_type": "markdown",
   "metadata": {
    "id": "f23fhkBqsbOy"
   },
   "source": [
    "# 1 - Creating the register"
   ]
  },
  {
   "cell_type": "markdown",
   "metadata": {},
   "source": [
    "The Register defines the positions of the atoms and their names of each one. There are multiple ways of defining a Register, the most customizable one being to create a dictionary that associates a name (the key) to a coordinate (the value)."
   ]
  },
  {
   "cell_type": "code",
   "execution_count": null,
   "metadata": {
    "executionInfo": {
     "elapsed": 215,
     "status": "ok",
     "timestamp": 1662791423844,
     "user": {
      "displayName": "Bruno Fedrici",
      "userId": "00027073225945173971"
     },
     "user_tz": -120
    },
    "id": "LfIwviter5n-"
   },
   "outputs": [],
   "source": [
    "L = 4\n",
    "square = np.array([[i, j] for i in range(L) for j in range(L)], dtype=float)"
   ]
  },
  {
   "cell_type": "code",
   "execution_count": null,
   "metadata": {
    "executionInfo": {
     "elapsed": 6,
     "status": "ok",
     "timestamp": 1662791424875,
     "user": {
      "displayName": "Bruno Fedrici",
      "userId": "00027073225945173971"
     },
     "user_tz": -120
    },
    "id": "-XrDG5Misdnw"
   },
   "outputs": [],
   "source": [
    "square -= np.mean(square, axis=0)\n",
    "square *= 5"
   ]
  },
  {
   "cell_type": "code",
   "execution_count": null,
   "metadata": {
    "executionInfo": {
     "elapsed": 3,
     "status": "ok",
     "timestamp": 1662791425423,
     "user": {
      "displayName": "Bruno Fedrici",
      "userId": "00027073225945173971"
     },
     "user_tz": -120
    },
    "id": "E-aOOiDbtFY1"
   },
   "outputs": [],
   "source": [
    "qubits = dict(enumerate(square))"
   ]
  },
  {
   "cell_type": "code",
   "execution_count": null,
   "metadata": {
    "colab": {
     "base_uri": "https://localhost:8080/"
    },
    "executionInfo": {
     "elapsed": 5,
     "status": "ok",
     "timestamp": 1662791426117,
     "user": {
      "displayName": "Bruno Fedrici",
      "userId": "00027073225945173971"
     },
     "user_tz": -120
    },
    "id": "r-Vz_z1ltco9",
    "outputId": "5b371dc0-f109-4b13-c868-eef56207c2d8"
   },
   "outputs": [],
   "source": [
    "qubits"
   ]
  },
  {
   "cell_type": "markdown",
   "metadata": {},
   "source": [
    "The Register class provides some useful features, like the ability to visualise the array."
   ]
  },
  {
   "cell_type": "code",
   "execution_count": null,
   "metadata": {
    "colab": {
     "base_uri": "https://localhost:8080/",
     "height": 272
    },
    "executionInfo": {
     "elapsed": 505,
     "status": "ok",
     "timestamp": 1662791428147,
     "user": {
      "displayName": "Bruno Fedrici",
      "userId": "00027073225945173971"
     },
     "user_tz": -120
    },
    "id": "Dbz4oBtWtdWE",
    "outputId": "403b3542-5698-4ca9-c1c9-afa1bc6f41bb"
   },
   "outputs": [],
   "source": [
    "reg = Register(qubits)\n",
    "reg.draw()"
   ]
  },
  {
   "cell_type": "markdown",
   "metadata": {},
   "source": [
    "If one doesn’t particularly care about the name given to the qubits, one can also create a Register just from a list of coordinates. In this case, the qubit ID’s are just numbered, starting from 0, in the order they are provided in, with the option of adding a common prefix before each number. Also, it automatically centers the entire array around the origin, an option that can be disabled if desired."
   ]
  },
  {
   "cell_type": "code",
   "execution_count": null,
   "metadata": {
    "colab": {
     "base_uri": "https://localhost:8080/",
     "height": 272
    },
    "executionInfo": {
     "elapsed": 791,
     "status": "ok",
     "timestamp": 1662791432556,
     "user": {
      "displayName": "Bruno Fedrici",
      "userId": "00027073225945173971"
     },
     "user_tz": -120
    },
    "id": "5TOEvt_muSI8",
    "outputId": "765c960f-faa7-41e9-cbcc-12d7fafe86ea"
   },
   "outputs": [],
   "source": [
    "# Alternative way of doing\n",
    "reg2 = Register.from_coordinates(square, prefix='q')\n",
    "reg2.draw()"
   ]
  },
  {
   "cell_type": "markdown",
   "metadata": {},
   "source": [
    "Furthermore, there are also built-in class methods from creation of common array patterns, namely: \n",
    "- Square lattices in rectangular or square shapes\n",
    "- Triangular lattices\r\n",
    "\r\n",
    "We could, thus, create the same square array as before by doing:"
   ]
  },
  {
   "cell_type": "code",
   "execution_count": null,
   "metadata": {
    "colab": {
     "base_uri": "https://localhost:8080/",
     "height": 272
    },
    "executionInfo": {
     "elapsed": 472,
     "status": "ok",
     "timestamp": 1662791434573,
     "user": {
      "displayName": "Bruno Fedrici",
      "userId": "00027073225945173971"
     },
     "user_tz": -120
    },
    "id": "euxNI6YMulr5",
    "outputId": "68e08d13-796e-4d71-a66c-f4d01ef11d10"
   },
   "outputs": [],
   "source": [
    "# Or with built in methods:\n",
    "reg3 = Register.square(4, spacing = 5)\n",
    "reg3.draw()"
   ]
  },
  {
   "cell_type": "markdown",
   "metadata": {
    "id": "-xpc8HCOvPO2"
   },
   "source": [
    "# 2 - Initializing the Sequence"
   ]
  },
  {
   "cell_type": "markdown",
   "metadata": {},
   "source": [
    "To create a Sequence, one has to provide it with the Register instance and the device in which the sequence will be executed. The chosen device will dictate whether the register is valid or not.\r\n",
    "\r\n",
    "We import the device (in this case, DigitalAnalogDevice) from pulser.devices and initialize our sequence with the freshly created register:"
   ]
  },
  {
   "cell_type": "code",
   "execution_count": null,
   "metadata": {
    "executionInfo": {
     "elapsed": 238,
     "status": "ok",
     "timestamp": 1662791448986,
     "user": {
      "displayName": "Bruno Fedrici",
      "userId": "00027073225945173971"
     },
     "user_tz": -120
    },
    "id": "8qWAUT0rvBaU"
   },
   "outputs": [],
   "source": [
    "from pulser.devices import AnalogDevice, DigitalAnalogDevice"
   ]
  },
  {
   "cell_type": "markdown",
   "metadata": {},
   "source": [
    "For current generation experimentations, AnalogDevice or MockDevice is recommended. Otherwise, DigitalAnalogDevice can also be used with local detuning modulation."
   ]
  },
  {
   "cell_type": "markdown",
   "metadata": {
    "id": "S-AWBbztwt3b"
   },
   "source": [
    "# 3 - Declaring the channels that will be used"
   ]
  },
  {
   "cell_type": "markdown",
   "metadata": {},
   "source": [
    "Inspecting what channels are available on this device:"
   ]
  },
  {
   "cell_type": "code",
   "execution_count": null,
   "metadata": {},
   "outputs": [],
   "source": [
    "seq = Sequence(reg, AnalogDevice)"
   ]
  },
  {
   "cell_type": "code",
   "execution_count": null,
   "metadata": {},
   "outputs": [],
   "source": [
    "seq.available_channels"
   ]
  },
  {
   "cell_type": "code",
   "execution_count": null,
   "metadata": {},
   "outputs": [],
   "source": [
    "seq = Sequence(reg, DigitalAnalogDevice)"
   ]
  },
  {
   "cell_type": "code",
   "execution_count": null,
   "metadata": {
    "colab": {
     "base_uri": "https://localhost:8080/"
    },
    "executionInfo": {
     "elapsed": 201,
     "status": "ok",
     "timestamp": 1662791605019,
     "user": {
      "displayName": "Bruno Fedrici",
      "userId": "00027073225945173971"
     },
     "user_tz": -120
    },
    "id": "FLA9-FyBwof9",
    "outputId": "8b4be8de-404d-4807-a2ec-359fd79c26ae"
   },
   "outputs": [],
   "source": [
    "seq.available_channels"
   ]
  },
  {
   "cell_type": "code",
   "execution_count": null,
   "metadata": {},
   "outputs": [],
   "source": [
    "# Suppose we want to work only with local channels\n",
    "seq.declare_channel(\"ch0\", \"rydberg_global\")\n",
    "seq.available_channels # Raman_local is no longer available"
   ]
  },
  {
   "cell_type": "code",
   "execution_count": null,
   "metadata": {
    "colab": {
     "base_uri": "https://localhost:8080/"
    },
    "executionInfo": {
     "elapsed": 203,
     "status": "ok",
     "timestamp": 1662791616182,
     "user": {
      "displayName": "Bruno Fedrici",
      "userId": "00027073225945173971"
     },
     "user_tz": -120
    },
    "id": "nkz1MDzqxp7K",
    "outputId": "69003e5f-2349-433e-c3e6-1b7b7c63b929"
   },
   "outputs": [],
   "source": [
    "seq.declare_channel(\"ch1\", \"rydberg_local\", initial_target=4)\n",
    "seq.available_channels"
   ]
  },
  {
   "cell_type": "markdown",
   "metadata": {},
   "source": [
    "At any time, we can also consult which channels were declared, their specifications and the name they were given by calling:\r\n"
   ]
  },
  {
   "cell_type": "code",
   "execution_count": null,
   "metadata": {
    "colab": {
     "base_uri": "https://localhost:8080/"
    },
    "executionInfo": {
     "elapsed": 242,
     "status": "ok",
     "timestamp": 1662791644397,
     "user": {
      "displayName": "Bruno Fedrici",
      "userId": "00027073225945173971"
     },
     "user_tz": -120
    },
    "id": "_MesdTCzyDHU",
    "outputId": "fd68727a-ff36-4b8e-c38a-23654ef44b77"
   },
   "outputs": [],
   "source": [
    "seq.declared_channels"
   ]
  },
  {
   "cell_type": "markdown",
   "metadata": {
    "id": "k4XHTsbsyvDZ"
   },
   "source": [
    "# 4 - Composing the Sequence"
   ]
  },
  {
   "cell_type": "markdown",
   "metadata": {},
   "source": [
    "Every channel needs to start with a target. For Global channels this is predefined to be all qubits in the device, but for Local channels this has to be defined. This initial target can be set through at channel declaration, or it can be done through the standard target instruction."
   ]
  },
  {
   "cell_type": "code",
   "execution_count": null,
   "metadata": {
    "executionInfo": {
     "elapsed": 254,
     "status": "ok",
     "timestamp": 1662791665524,
     "user": {
      "displayName": "Bruno Fedrici",
      "userId": "00027073225945173971"
     },
     "user_tz": -120
    },
    "id": "e0XUOjawzI7X"
   },
   "outputs": [],
   "source": [
    "# Let's start with a very simple pulse\n",
    "simple_pulse = Pulse.ConstantPulse(duration = 200, amplitude = 2, detuning = -10, phase = 0)\n",
    "\n",
    "# Let's add this pulse to \"ch0\"\n",
    "seq.add(simple_pulse, \"ch0\")"
   ]
  },
  {
   "cell_type": "code",
   "execution_count": null,
   "metadata": {
    "executionInfo": {
     "elapsed": 253,
     "status": "ok",
     "timestamp": 1662791671281,
     "user": {
      "displayName": "Bruno Fedrici",
      "userId": "00027073225945173971"
     },
     "user_tz": -120
    },
    "id": "qVcVT7f1z6ia"
   },
   "outputs": [],
   "source": [
    "# Suppose we want to freeze \"ch1\" for 100 ns while \"ch0\" is doing its pulse\n",
    "seq.delay(100, \"ch1\")"
   ]
  },
  {
   "cell_type": "code",
   "execution_count": null,
   "metadata": {
    "colab": {
     "base_uri": "https://localhost:8080/"
    },
    "executionInfo": {
     "elapsed": 6,
     "status": "ok",
     "timestamp": 1662791672263,
     "user": {
      "displayName": "Bruno Fedrici",
      "userId": "00027073225945173971"
     },
     "user_tz": -120
    },
    "id": "Tn1spJsg0RdK",
    "outputId": "75a17db8-8194-434b-9ed7-1c2d3faff51d"
   },
   "outputs": [],
   "source": [
    "print(seq)"
   ]
  },
  {
   "cell_type": "markdown",
   "metadata": {},
   "source": [
    "We can also draw the sequence, for a more visual representation:\r\n"
   ]
  },
  {
   "cell_type": "code",
   "execution_count": null,
   "metadata": {
    "colab": {
     "base_uri": "https://localhost:8080/",
     "height": 449
    },
    "executionInfo": {
     "elapsed": 1461,
     "status": "ok",
     "timestamp": 1662791686100,
     "user": {
      "displayName": "Bruno Fedrici",
      "userId": "00027073225945173971"
     },
     "user_tz": -120
    },
    "id": "kuP8C8v00aIr",
    "outputId": "156f22c2-8360-480f-a507-3626a09f7893"
   },
   "outputs": [],
   "source": [
    "seq.draw()"
   ]
  },
  {
   "cell_type": "code",
   "execution_count": null,
   "metadata": {
    "executionInfo": {
     "elapsed": 235,
     "status": "ok",
     "timestamp": 1662791712057,
     "user": {
      "displayName": "Bruno Fedrici",
      "userId": "00027073225945173971"
     },
     "user_tz": -120
    },
    "id": "LgP1HBIY0jCr"
   },
   "outputs": [],
   "source": [
    "# Now suppose we want to add to \"ch1\" a more complex pulse with \n",
    "# omega != cst and delta != cst\n",
    "from pulser.waveforms import BlackmanWaveform, RampWaveform\n",
    "amp_wf = BlackmanWaveform(duration=1000, area=np.pi/2)\n",
    "detuning_wf = RampWaveform(duration=1000, start=-20, stop=20)"
   ]
  },
  {
   "cell_type": "code",
   "execution_count": null,
   "metadata": {
    "colab": {
     "base_uri": "https://localhost:8080/"
    },
    "executionInfo": {
     "elapsed": 232,
     "status": "ok",
     "timestamp": 1662791716059,
     "user": {
      "displayName": "Bruno Fedrici",
      "userId": "00027073225945173971"
     },
     "user_tz": -120
    },
    "id": "dMc4vowf0beG",
    "outputId": "82063105-50e5-4a8f-83fa-b89ad606ca49"
   },
   "outputs": [],
   "source": [
    "amp_wf.integral"
   ]
  },
  {
   "cell_type": "markdown",
   "metadata": {},
   "source": [
    "We can visualize a waveform by calling:\r\n"
   ]
  },
  {
   "cell_type": "code",
   "execution_count": null,
   "metadata": {
    "colab": {
     "base_uri": "https://localhost:8080/",
     "height": 279
    },
    "executionInfo": {
     "elapsed": 254,
     "status": "ok",
     "timestamp": 1662791722339,
     "user": {
      "displayName": "Bruno Fedrici",
      "userId": "00027073225945173971"
     },
     "user_tz": -120
    },
    "id": "G7FoXBvj0fRm",
    "outputId": "12e277d1-2864-49c4-c03b-b424f9500c24"
   },
   "outputs": [],
   "source": [
    "amp_wf.draw()"
   ]
  },
  {
   "cell_type": "code",
   "execution_count": null,
   "metadata": {
    "colab": {
     "base_uri": "https://localhost:8080/",
     "height": 279
    },
    "executionInfo": {
     "elapsed": 285,
     "status": "ok",
     "timestamp": 1662791742072,
     "user": {
      "displayName": "Bruno Fedrici",
      "userId": "00027073225945173971"
     },
     "user_tz": -120
    },
    "id": "bqSsukRb0jCs",
    "outputId": "f893c38f-847b-400c-9b39-df5f95e8f95d"
   },
   "outputs": [],
   "source": [
    "detuning_wf.draw()"
   ]
  },
  {
   "cell_type": "code",
   "execution_count": null,
   "metadata": {
    "executionInfo": {
     "elapsed": 224,
     "status": "ok",
     "timestamp": 1662791746059,
     "user": {
      "displayName": "Bruno Fedrici",
      "userId": "00027073225945173971"
     },
     "user_tz": -120
    },
    "id": "GOTRh91j0nxd"
   },
   "outputs": [],
   "source": [
    "complex_pulse = Pulse(amplitude = amp_wf, detuning = detuning_wf, phase = 0)"
   ]
  },
  {
   "cell_type": "code",
   "execution_count": null,
   "metadata": {
    "colab": {
     "base_uri": "https://localhost:8080/",
     "height": 297
    },
    "executionInfo": {
     "elapsed": 618,
     "status": "ok",
     "timestamp": 1662791748320,
     "user": {
      "displayName": "Bruno Fedrici",
      "userId": "00027073225945173971"
     },
     "user_tz": -120
    },
    "id": "72ltDbbw1IGj",
    "outputId": "308b6aa1-8c8b-4731-d23d-31480555541e"
   },
   "outputs": [],
   "source": [
    "complex_pulse.draw()"
   ]
  },
  {
   "cell_type": "code",
   "execution_count": null,
   "metadata": {
    "executionInfo": {
     "elapsed": 242,
     "status": "ok",
     "timestamp": 1662791757005,
     "user": {
      "displayName": "Bruno Fedrici",
      "userId": "00027073225945173971"
     },
     "user_tz": -120
    },
    "id": "Ssj5Re1y1Klu"
   },
   "outputs": [],
   "source": [
    "seq.add(complex_pulse, \"ch1\")"
   ]
  },
  {
   "cell_type": "code",
   "execution_count": null,
   "metadata": {
    "colab": {
     "base_uri": "https://localhost:8080/"
    },
    "executionInfo": {
     "elapsed": 238,
     "status": "ok",
     "timestamp": 1662791759008,
     "user": {
      "displayName": "Bruno Fedrici",
      "userId": "00027073225945173971"
     },
     "user_tz": -120
    },
    "id": "x8SXy8-I1cn3",
    "outputId": "11ad3838-9bc8-4def-de50-368bd46f7574"
   },
   "outputs": [],
   "source": [
    "print(seq)"
   ]
  },
  {
   "cell_type": "code",
   "execution_count": null,
   "metadata": {
    "colab": {
     "base_uri": "https://localhost:8080/",
     "height": 504
    },
    "executionInfo": {
     "elapsed": 2375,
     "status": "ok",
     "timestamp": 1662791762785,
     "user": {
      "displayName": "Bruno Fedrici",
      "userId": "00027073225945173971"
     },
     "user_tz": -120
    },
    "id": "W5V-fWtC1_qs",
    "outputId": "42565208-8086-46e7-c579-3fedee268e3c"
   },
   "outputs": [],
   "source": [
    "seq.draw()"
   ]
  },
  {
   "cell_type": "markdown",
   "metadata": {},
   "source": [
    "Now, let’s see how the Sequence builder handles conflicts (i.e. two channels acting on the same qubit at once). "
   ]
  },
  {
   "cell_type": "code",
   "execution_count": null,
   "metadata": {
    "colab": {
     "base_uri": "https://localhost:8080/",
     "height": 730
    },
    "executionInfo": {
     "elapsed": 1448,
     "status": "ok",
     "timestamp": 1662791787960,
     "user": {
      "displayName": "Bruno Fedrici",
      "userId": "00027073225945173971"
     },
     "user_tz": -120
    },
    "id": "rhF0RVDu3N9b",
    "outputId": "21c9a3f2-abc2-4c79-9971-29d200a99bb7"
   },
   "outputs": [],
   "source": [
    "# Situation with two pulses from two different channels  \n",
    "# Default protocol is 'min-delay'\n",
    "seq.add(complex_pulse, 'ch0')\n",
    "print(seq)\n",
    "seq.draw()"
   ]
  },
  {
   "cell_type": "code",
   "execution_count": null,
   "metadata": {
    "executionInfo": {
     "elapsed": 240,
     "status": "ok",
     "timestamp": 1662791806254,
     "user": {
      "displayName": "Bruno Fedrici",
      "userId": "00027073225945173971"
     },
     "user_tz": -120
    },
    "id": "lvU_Zo9v2CNa"
   },
   "outputs": [],
   "source": [
    "# Let's see now another protocol named 'wait-for-all'\n",
    "seq.target(0, 'ch1')"
   ]
  },
  {
   "cell_type": "code",
   "execution_count": null,
   "metadata": {
    "colab": {
     "base_uri": "https://localhost:8080/",
     "height": 799
    },
    "executionInfo": {
     "elapsed": 1816,
     "status": "ok",
     "timestamp": 1662791809974,
     "user": {
      "displayName": "Bruno Fedrici",
      "userId": "00027073225945173971"
     },
     "user_tz": -120
    },
    "id": "23D6YrBU2s9C",
    "outputId": "5ee0de73-8c04-4cfa-f94c-ca9020250b77"
   },
   "outputs": [],
   "source": [
    "seq.add(simple_pulse, 'ch1', protocol='min-delay')\n",
    "seq.add(simple_pulse, 'ch1', protocol='wait-for-all')\n",
    "print(seq)\n",
    "seq.draw()\n"
   ]
  },
  {
   "cell_type": "code",
   "execution_count": null,
   "metadata": {
    "colab": {
     "base_uri": "https://localhost:8080/",
     "height": 834
    },
    "executionInfo": {
     "elapsed": 1682,
     "status": "ok",
     "timestamp": 1662791866900,
     "user": {
      "displayName": "Bruno Fedrici",
      "userId": "00027073225945173971"
     },
     "user_tz": -120
    },
    "id": "nt5EzfhL26vR",
    "outputId": "34c108ad-54f0-4f54-a2fe-3e6741d71015"
   },
   "outputs": [],
   "source": [
    "# Another protocol is the 'no-delay' (not recommended)\n",
    "seq.add(complex_pulse, \"ch0\", protocol='no-delay')\n",
    "print(seq)\n",
    "seq.draw()"
   ]
  },
  {
   "cell_type": "markdown",
   "metadata": {
    "id": "KZzIx8Ti6F0n"
   },
   "source": [
    "# 5 - Measurement"
   ]
  },
  {
   "cell_type": "markdown",
   "metadata": {},
   "source": [
    "To finish a sequence, we measure it. A measurement signals the end of a sequence, so after it no more changes are possible. When measuring, one has to select the desired measurement basis. The availabe options depend on the device and can be consulted by calling:\r\n"
   ]
  },
  {
   "cell_type": "code",
   "execution_count": null,
   "metadata": {
    "colab": {
     "base_uri": "https://localhost:8080/"
    },
    "executionInfo": {
     "elapsed": 198,
     "status": "ok",
     "timestamp": 1662791875225,
     "user": {
      "displayName": "Bruno Fedrici",
      "userId": "00027073225945173971"
     },
     "user_tz": -120
    },
    "id": "kugScu2c5uZF",
    "outputId": "bd074a7b-7526-4322-efd5-6fb73bda155f"
   },
   "outputs": [],
   "source": [
    "# Measurement = final element of a sequence\n",
    "# All the qubits are measured\n",
    "DigitalAnalogDevice.supported_bases"
   ]
  },
  {
   "cell_type": "code",
   "execution_count": null,
   "metadata": {
    "colab": {
     "base_uri": "https://localhost:8080/",
     "height": 504
    },
    "executionInfo": {
     "elapsed": 1930,
     "status": "ok",
     "timestamp": 1662791878927,
     "user": {
      "displayName": "Bruno Fedrici",
      "userId": "00027073225945173971"
     },
     "user_tz": -120
    },
    "id": "VentKRtz6H-o",
    "outputId": "8acc9dbb-845e-48b3-ceea-891b2653de4b"
   },
   "outputs": [],
   "source": [
    "seq.measure(basis='ground-rydberg')\n",
    "seq.draw()"
   ]
  },
  {
   "cell_type": "code",
   "execution_count": null,
   "metadata": {
    "id": "2sQXursC7qd0"
   },
   "outputs": [],
   "source": []
  }
 ],
 "metadata": {
  "colab": {
   "provenance": []
  },
  "kernelspec": {
   "display_name": "Python 3 (ipykernel)",
   "language": "python",
   "name": "python3"
  },
  "language_info": {
   "codemirror_mode": {
    "name": "ipython",
    "version": 3
   },
   "file_extension": ".py",
   "mimetype": "text/x-python",
   "name": "python",
   "nbconvert_exporter": "python",
   "pygments_lexer": "ipython3",
   "version": "3.11.9"
  }
 },
 "nbformat": 4,
 "nbformat_minor": 4
}
